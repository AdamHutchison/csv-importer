{
 "cells": [
  {
   "cell_type": "code",
   "execution_count": 139,
   "metadata": {},
   "outputs": [],
   "source": [
    "import pandas\n",
    "import pymysql\n",
    "import DatabaseConnection"
   ]
  },
  {
   "cell_type": "code",
   "execution_count": 4,
   "metadata": {},
   "outputs": [],
   "source": [
    "oo = pandas.read_csv('/Users/netsells/Documents/Import5.csv')"
   ]
  },
  {
   "cell_type": "code",
   "execution_count": 5,
   "metadata": {},
   "outputs": [
    {
     "data": {
      "text/html": [
       "<div>\n",
       "<style scoped>\n",
       "    .dataframe tbody tr th:only-of-type {\n",
       "        vertical-align: middle;\n",
       "    }\n",
       "\n",
       "    .dataframe tbody tr th {\n",
       "        vertical-align: top;\n",
       "    }\n",
       "\n",
       "    .dataframe thead th {\n",
       "        text-align: right;\n",
       "    }\n",
       "</style>\n",
       "<table border=\"1\" class=\"dataframe\">\n",
       "  <thead>\n",
       "    <tr style=\"text-align: right;\">\n",
       "      <th></th>\n",
       "      <th>Recommendation</th>\n",
       "      <th>owners (comma separate)</th>\n",
       "      <th>Actions (comma separate)</th>\n",
       "      <th>Relevant Organisations</th>\n",
       "      <th>number</th>\n",
       "      <th>text</th>\n",
       "      <th>type ('Resolution','Recommendation','Workplan','Action','Draw attention')</th>\n",
       "      <th>year</th>\n",
       "      <th>endorsed_at_commission ('Yes','No','Pending')</th>\n",
       "      <th>commission_endorsed_at</th>\n",
       "      <th>...</th>\n",
       "      <th>target_completion_date</th>\n",
       "      <th>review_meeting</th>\n",
       "      <th>status ('Open','Closed')</th>\n",
       "      <th>progress ('Not started','Ongoing','Unknown','N/A')</th>\n",
       "      <th>last_reviewed</th>\n",
       "      <th>outcome</th>\n",
       "      <th>further_action</th>\n",
       "      <th>species (comma separate)</th>\n",
       "      <th>themes (comma separate)</th>\n",
       "      <th>name</th>\n",
       "    </tr>\n",
       "  </thead>\n",
       "  <tbody>\n",
       "    <tr>\n",
       "      <th>0</th>\n",
       "      <td>Format TBC</td>\n",
       "      <td>Owner1</td>\n",
       "      <td>Action 1</td>\n",
       "      <td>Organiston1</td>\n",
       "      <td>1234</td>\n",
       "      <td>Some text</td>\n",
       "      <td>Workplan</td>\n",
       "      <td>2007</td>\n",
       "      <td>Yes</td>\n",
       "      <td>some commission</td>\n",
       "      <td>...</td>\n",
       "      <td>date 1</td>\n",
       "      <td>review meeting 1</td>\n",
       "      <td>Closed</td>\n",
       "      <td>Not, Started</td>\n",
       "      <td>last reviewed 1</td>\n",
       "      <td>IWC Secretariat</td>\n",
       "      <td>action1:In progress::category1,action2:Complet...</td>\n",
       "      <td>Species 1, species 2</td>\n",
       "      <td>theme1,theme2,theme3</td>\n",
       "      <td>Name 1</td>\n",
       "    </tr>\n",
       "    <tr>\n",
       "      <th>1</th>\n",
       "      <td>Format TBC</td>\n",
       "      <td>Owner2</td>\n",
       "      <td>Action 2</td>\n",
       "      <td>Organiston2</td>\n",
       "      <td>1234</td>\n",
       "      <td>Some text</td>\n",
       "      <td>Workplan</td>\n",
       "      <td>2007</td>\n",
       "      <td>Yes</td>\n",
       "      <td>some commission</td>\n",
       "      <td>...</td>\n",
       "      <td>date 2</td>\n",
       "      <td>review meeting 2</td>\n",
       "      <td>Closed</td>\n",
       "      <td>Not, Started</td>\n",
       "      <td>last reviewed 2</td>\n",
       "      <td>IWC Secretariat</td>\n",
       "      <td>action1:In progress::category1,action2:Complet...</td>\n",
       "      <td>Species 1, species 3</td>\n",
       "      <td>theme1,theme2,theme4</td>\n",
       "      <td>Name 2</td>\n",
       "    </tr>\n",
       "    <tr>\n",
       "      <th>2</th>\n",
       "      <td>Format TBC</td>\n",
       "      <td>Owner3</td>\n",
       "      <td>Action 3</td>\n",
       "      <td>Organiston3</td>\n",
       "      <td>1234</td>\n",
       "      <td>Some text</td>\n",
       "      <td>Workplan</td>\n",
       "      <td>2007</td>\n",
       "      <td>Yes</td>\n",
       "      <td>some commission</td>\n",
       "      <td>...</td>\n",
       "      <td>date 3</td>\n",
       "      <td>review meeting 3</td>\n",
       "      <td>Closed</td>\n",
       "      <td>Not, Started</td>\n",
       "      <td>last reviewed 3</td>\n",
       "      <td>IWC Secretariat</td>\n",
       "      <td>action1:In progress::category1,action2:Complet...</td>\n",
       "      <td>Species 1, species 4</td>\n",
       "      <td>theme1,theme2,theme5</td>\n",
       "      <td>Name 3</td>\n",
       "    </tr>\n",
       "    <tr>\n",
       "      <th>3</th>\n",
       "      <td>Format TBC</td>\n",
       "      <td>Owner4</td>\n",
       "      <td>Action 4</td>\n",
       "      <td>Organiston4</td>\n",
       "      <td>1234</td>\n",
       "      <td>Some text</td>\n",
       "      <td>Workplan</td>\n",
       "      <td>2007</td>\n",
       "      <td>Yes</td>\n",
       "      <td>some commission</td>\n",
       "      <td>...</td>\n",
       "      <td>date 4</td>\n",
       "      <td>review meeting 4</td>\n",
       "      <td>Closed</td>\n",
       "      <td>Not, Started</td>\n",
       "      <td>last reviewed 4</td>\n",
       "      <td>IWC Secretariat</td>\n",
       "      <td>action1:In progress::category1,action2:Complet...</td>\n",
       "      <td>Species 1, species 5</td>\n",
       "      <td>theme1,theme2,theme6</td>\n",
       "      <td>Name 4</td>\n",
       "    </tr>\n",
       "    <tr>\n",
       "      <th>4</th>\n",
       "      <td>Format TBC</td>\n",
       "      <td>Owner5</td>\n",
       "      <td>Action 5</td>\n",
       "      <td>Organiston5</td>\n",
       "      <td>1234</td>\n",
       "      <td>Some text</td>\n",
       "      <td>Workplan</td>\n",
       "      <td>2007</td>\n",
       "      <td>Yes</td>\n",
       "      <td>some commission</td>\n",
       "      <td>...</td>\n",
       "      <td>date 5</td>\n",
       "      <td>review meeting 5</td>\n",
       "      <td>Closed</td>\n",
       "      <td>Not, Started</td>\n",
       "      <td>last reviewed 5</td>\n",
       "      <td>IWC Secretariat</td>\n",
       "      <td>action1:In progress::category1,action2:Complet...</td>\n",
       "      <td>Species 1, species 6</td>\n",
       "      <td>theme1,theme2,theme7</td>\n",
       "      <td>Name 5</td>\n",
       "    </tr>\n",
       "    <tr>\n",
       "      <th>5</th>\n",
       "      <td>Format TBC</td>\n",
       "      <td>Owner6</td>\n",
       "      <td>Action 6</td>\n",
       "      <td>Organiston6</td>\n",
       "      <td>1234</td>\n",
       "      <td>Some text</td>\n",
       "      <td>Workplan</td>\n",
       "      <td>2007</td>\n",
       "      <td>Yes</td>\n",
       "      <td>some commission</td>\n",
       "      <td>...</td>\n",
       "      <td>date 6</td>\n",
       "      <td>review meeting 6</td>\n",
       "      <td>Closed</td>\n",
       "      <td>Not, Started</td>\n",
       "      <td>last reviewed 6</td>\n",
       "      <td>IWC Secretariat</td>\n",
       "      <td>action1:In progress::category1,action2:Complet...</td>\n",
       "      <td>Species 1, species 7</td>\n",
       "      <td>theme1,theme2,theme8</td>\n",
       "      <td>Name 6</td>\n",
       "    </tr>\n",
       "    <tr>\n",
       "      <th>6</th>\n",
       "      <td>Format TBC</td>\n",
       "      <td>Owner7</td>\n",
       "      <td>Action 7</td>\n",
       "      <td>Organiston7</td>\n",
       "      <td>1234</td>\n",
       "      <td>Some text</td>\n",
       "      <td>Workplan</td>\n",
       "      <td>2007</td>\n",
       "      <td>Yes</td>\n",
       "      <td>some commission</td>\n",
       "      <td>...</td>\n",
       "      <td>date 7</td>\n",
       "      <td>review meeting 7</td>\n",
       "      <td>Closed</td>\n",
       "      <td>Not, Started</td>\n",
       "      <td>last reviewed 7</td>\n",
       "      <td>IWC Secretariat</td>\n",
       "      <td>action1:In progress::category1,action2:Complet...</td>\n",
       "      <td>Species 1, species 8</td>\n",
       "      <td>theme1,theme2,theme9</td>\n",
       "      <td>Name 7</td>\n",
       "    </tr>\n",
       "    <tr>\n",
       "      <th>7</th>\n",
       "      <td>Format TBC</td>\n",
       "      <td>Owner8</td>\n",
       "      <td>Action 8</td>\n",
       "      <td>Organiston8</td>\n",
       "      <td>1234</td>\n",
       "      <td>Some text</td>\n",
       "      <td>Workplan</td>\n",
       "      <td>2007</td>\n",
       "      <td>Yes</td>\n",
       "      <td>some commission</td>\n",
       "      <td>...</td>\n",
       "      <td>date 8</td>\n",
       "      <td>review meeting 8</td>\n",
       "      <td>Closed</td>\n",
       "      <td>Not, Started</td>\n",
       "      <td>last reviewed 8</td>\n",
       "      <td>IWC Secretariat</td>\n",
       "      <td>action1:In progress::category1,action2:Complet...</td>\n",
       "      <td>Species 1, species 9</td>\n",
       "      <td>theme1,theme2,theme10</td>\n",
       "      <td>Name 8</td>\n",
       "    </tr>\n",
       "  </tbody>\n",
       "</table>\n",
       "<p>8 rows × 24 columns</p>\n",
       "</div>"
      ],
      "text/plain": [
       "  Recommendation owners (comma separate) Actions (comma separate)  \\\n",
       "0     Format TBC                  Owner1                 Action 1   \n",
       "1     Format TBC                  Owner2                 Action 2   \n",
       "2     Format TBC                  Owner3                 Action 3   \n",
       "3     Format TBC                  Owner4                 Action 4   \n",
       "4     Format TBC                  Owner5                 Action 5   \n",
       "5     Format TBC                  Owner6                 Action 6   \n",
       "6     Format TBC                  Owner7                 Action 7   \n",
       "7     Format TBC                  Owner8                 Action 8   \n",
       "\n",
       "  Relevant Organisations  number       text  \\\n",
       "0            Organiston1    1234  Some text   \n",
       "1            Organiston2    1234  Some text   \n",
       "2            Organiston3    1234  Some text   \n",
       "3            Organiston4    1234  Some text   \n",
       "4            Organiston5    1234  Some text   \n",
       "5            Organiston6    1234  Some text   \n",
       "6            Organiston7    1234  Some text   \n",
       "7            Organiston8    1234  Some text   \n",
       "\n",
       "  type ('Resolution','Recommendation','Workplan','Action','Draw attention')  \\\n",
       "0                                           Workplan                          \n",
       "1                                           Workplan                          \n",
       "2                                           Workplan                          \n",
       "3                                           Workplan                          \n",
       "4                                           Workplan                          \n",
       "5                                           Workplan                          \n",
       "6                                           Workplan                          \n",
       "7                                           Workplan                          \n",
       "\n",
       "   year endorsed_at_commission ('Yes','No','Pending') commission_endorsed_at  \\\n",
       "0  2007                                           Yes        some commission   \n",
       "1  2007                                           Yes        some commission   \n",
       "2  2007                                           Yes        some commission   \n",
       "3  2007                                           Yes        some commission   \n",
       "4  2007                                           Yes        some commission   \n",
       "5  2007                                           Yes        some commission   \n",
       "6  2007                                           Yes        some commission   \n",
       "7  2007                                           Yes        some commission   \n",
       "\n",
       "    ...   target_completion_date    review_meeting  status ('Open','Closed')  \\\n",
       "0   ...                   date 1  review meeting 1                    Closed   \n",
       "1   ...                   date 2  review meeting 2                    Closed   \n",
       "2   ...                   date 3  review meeting 3                    Closed   \n",
       "3   ...                   date 4  review meeting 4                    Closed   \n",
       "4   ...                   date 5  review meeting 5                    Closed   \n",
       "5   ...                   date 6  review meeting 6                    Closed   \n",
       "6   ...                   date 7  review meeting 7                    Closed   \n",
       "7   ...                   date 8  review meeting 8                    Closed   \n",
       "\n",
       "  progress ('Not started','Ongoing','Unknown','N/A')    last_reviewed  \\\n",
       "0                                       Not, Started  last reviewed 1   \n",
       "1                                       Not, Started  last reviewed 2   \n",
       "2                                       Not, Started  last reviewed 3   \n",
       "3                                       Not, Started  last reviewed 4   \n",
       "4                                       Not, Started  last reviewed 5   \n",
       "5                                       Not, Started  last reviewed 6   \n",
       "6                                       Not, Started  last reviewed 7   \n",
       "7                                       Not, Started  last reviewed 8   \n",
       "\n",
       "           outcome                                     further_action  \\\n",
       "0  IWC Secretariat  action1:In progress::category1,action2:Complet...   \n",
       "1  IWC Secretariat  action1:In progress::category1,action2:Complet...   \n",
       "2  IWC Secretariat  action1:In progress::category1,action2:Complet...   \n",
       "3  IWC Secretariat  action1:In progress::category1,action2:Complet...   \n",
       "4  IWC Secretariat  action1:In progress::category1,action2:Complet...   \n",
       "5  IWC Secretariat  action1:In progress::category1,action2:Complet...   \n",
       "6  IWC Secretariat  action1:In progress::category1,action2:Complet...   \n",
       "7  IWC Secretariat  action1:In progress::category1,action2:Complet...   \n",
       "\n",
       "  species (comma separate) themes (comma separate)    name  \n",
       "0     Species 1, species 2    theme1,theme2,theme3  Name 1  \n",
       "1     Species 1, species 3    theme1,theme2,theme4  Name 2  \n",
       "2     Species 1, species 4    theme1,theme2,theme5  Name 3  \n",
       "3     Species 1, species 5    theme1,theme2,theme6  Name 4  \n",
       "4     Species 1, species 6    theme1,theme2,theme7  Name 5  \n",
       "5     Species 1, species 7    theme1,theme2,theme8  Name 6  \n",
       "6     Species 1, species 8    theme1,theme2,theme9  Name 7  \n",
       "7     Species 1, species 9   theme1,theme2,theme10  Name 8  \n",
       "\n",
       "[8 rows x 24 columns]"
      ]
     },
     "execution_count": 5,
     "metadata": {},
     "output_type": "execute_result"
    }
   ],
   "source": [
    "oo"
   ]
  },
  {
   "cell_type": "code",
   "execution_count": 6,
   "metadata": {},
   "outputs": [
    {
     "data": {
      "text/plain": [
       "[RangeIndex(start=0, stop=8, step=1),\n",
       " Index(['Recommendation', 'owners (comma separate)', 'Actions (comma separate)',\n",
       "        'Relevant Organisations', 'number', 'text',\n",
       "        'type ('Resolution','Recommendation','Workplan','Action','Draw attention')',\n",
       "        'year', 'endorsed_at_commission ('Yes','No','Pending')',\n",
       "        'commission_endorsed_at',\n",
       "        'decision_process ('Consensus','Resolution','Agreed by vote','Report adoption')',\n",
       "        'context', 'document_reference', 'document_url',\n",
       "        'target_completion_date', 'review_meeting', 'status ('Open','Closed')',\n",
       "        'progress ('Not started','Ongoing','Unknown','N/A')', 'last_reviewed',\n",
       "        'outcome', 'further_action', 'species (comma separate)',\n",
       "        'themes (comma separate)', 'name'],\n",
       "       dtype='object')]"
      ]
     },
     "execution_count": 6,
     "metadata": {},
     "output_type": "execute_result"
    }
   ],
   "source": [
    "oo.axes"
   ]
  },
  {
   "cell_type": "code",
   "execution_count": 40,
   "metadata": {},
   "outputs": [
    {
     "data": {
      "text/plain": [
       "[RangeIndex(start=0, stop=8, step=1),\n",
       " Index(['Recommendation', 'owners (comma separate)', 'Actions (comma separate)',\n",
       "        'Relevant Organisations', 'number', 'text',\n",
       "        'type ('Resolution','Recommendation','Workplan','Action','Draw attention')',\n",
       "        'year', 'endorsed_at_commission ('Yes','No','Pending')',\n",
       "        'commission_endorsed_at',\n",
       "        'decision_process ('Consensus','Resolution','Agreed by vote','Report adoption')',\n",
       "        'context', 'document_reference', 'document_url',\n",
       "        'target_completion_date', 'review_meeting', 'status ('Open','Closed')',\n",
       "        'progress ('Not started','Ongoing','Unknown','N/A')', 'last_reviewed',\n",
       "        'outcome', 'further_action', 'species (comma separate)',\n",
       "        'themes (comma separate)', 'name'],\n",
       "       dtype='object')]"
      ]
     },
     "execution_count": 40,
     "metadata": {},
     "output_type": "execute_result"
    }
   ],
   "source": []
  },
  {
   "cell_type": "code",
   "execution_count": 109,
   "metadata": {},
   "outputs": [],
   "source": [
    "columnHeadings = oo.axes"
   ]
  },
  {
   "cell_type": "code",
   "execution_count": 111,
   "metadata": {
    "scrolled": true
   },
   "outputs": [
    {
     "name": "stdout",
     "output_type": "stream",
     "text": [
      "Index(['Recommendation', 'owners (comma separate)', 'Actions (comma separate)',\n",
      "       'Relevant Organisations', 'number', 'text',\n",
      "       'type ('Resolution','Recommendation','Workplan','Action','Draw attention')',\n",
      "       'year', 'endorsed_at_commission ('Yes','No','Pending')',\n",
      "       'commission_endorsed_at',\n",
      "       'decision_process ('Consensus','Resolution','Agreed by vote','Report adoption')',\n",
      "       'context', 'document_reference', 'document_url',\n",
      "       'target_completion_date', 'review_meeting', 'status ('Open','Closed')',\n",
      "       'progress ('Not started','Ongoing','Unknown','N/A')', 'last_reviewed',\n",
      "       'outcome', 'further_action', 'species (comma separate)',\n",
      "       'themes (comma separate)', 'name'],\n",
      "      dtype='object')\n"
     ]
    }
   ],
   "source": [
    "print(columnHeadings[1])"
   ]
  },
  {
   "cell_type": "code",
   "execution_count": 116,
   "metadata": {},
   "outputs": [
    {
     "name": "stdout",
     "output_type": "stream",
     "text": [
      "[0, 1, 2, 3, 4, 5, 6, 7, 8, 9, 10, 11, 12, 13, 14, 15, 16, 17, 18, 19, 20, 21, 22, 23]\n"
     ]
    }
   ],
   "source": [
    "headingIndexList = []\n",
    "for i in range(len(columnHeadings[1])):\n",
    "    headingIndexList.append(i)\n",
    "print (headingIndexList)"
   ]
  },
  {
   "cell_type": "code",
   "execution_count": 117,
   "metadata": {},
   "outputs": [],
   "source": [
    "orderedColumnHeadings = dict(zip(headingIndexList,oo.axes[1])) "
   ]
  },
  {
   "cell_type": "code",
   "execution_count": 118,
   "metadata": {},
   "outputs": [
    {
     "name": "stdout",
     "output_type": "stream",
     "text": [
      "{0: 'Recommendation', 1: 'owners (comma separate)', 2: 'Actions (comma separate)', 3: 'Relevant Organisations', 4: 'number', 5: 'text', 6: \"type ('Resolution','Recommendation','Workplan','Action','Draw attention')\", 7: 'year', 8: \"endorsed_at_commission ('Yes','No','Pending')\", 9: 'commission_endorsed_at', 10: \"decision_process ('Consensus','Resolution','Agreed by vote','Report adoption')\", 11: 'context', 12: 'document_reference', 13: 'document_url', 14: 'target_completion_date', 15: 'review_meeting', 16: \"status ('Open','Closed')\", 17: \"progress ('Not started','Ongoing','Unknown','N/A')\", 18: 'last_reviewed', 19: 'outcome', 20: 'further_action', 21: 'species (comma separate)', 22: 'themes (comma separate)', 23: 'name'}\n"
     ]
    }
   ],
   "source": [
    "print(orderedColumnHeadings)"
   ]
  },
  {
   "cell_type": "code",
   "execution_count": 124,
   "metadata": {},
   "outputs": [
    {
     "data": {
      "text/plain": [
       "'owners (comma separate)'"
      ]
     },
     "execution_count": 124,
     "metadata": {},
     "output_type": "execute_result"
    }
   ],
   "source": [
    "columnHeadings[1][1]"
   ]
  },
  {
   "cell_type": "code",
   "execution_count": 143,
   "metadata": {},
   "outputs": [],
   "source": [
    "db = pymysql.connect('localhost', 'root', '', 'IWC')"
   ]
  },
  {
   "cell_type": "code",
   "execution_count": 144,
   "metadata": {},
   "outputs": [
    {
     "data": {
      "text/plain": [
       "<pymysql.cursors.Cursor at 0x10b7e9d30>"
      ]
     },
     "execution_count": 144,
     "metadata": {},
     "output_type": "execute_result"
    }
   ],
   "source": [
    "db.cursor()"
   ]
  },
  {
   "cell_type": "code",
   "execution_count": 154,
   "metadata": {},
   "outputs": [
    {
     "ename": "AttributeError",
     "evalue": "'int' object has no attribute 'fetchmanY'",
     "output_type": "error",
     "traceback": [
      "\u001b[0;31m---------------------------------------------------------------------------\u001b[0m",
      "\u001b[0;31mAttributeError\u001b[0m                            Traceback (most recent call last)",
      "\u001b[0;32m<ipython-input-154-912b9345411b>\u001b[0m in \u001b[0;36m<module>\u001b[0;34m()\u001b[0m\n\u001b[0;32m----> 1\u001b[0;31m \u001b[0mdb\u001b[0m\u001b[0;34m.\u001b[0m\u001b[0mcursor\u001b[0m\u001b[0;34m(\u001b[0m\u001b[0;34m)\u001b[0m\u001b[0;34m.\u001b[0m\u001b[0mexecute\u001b[0m\u001b[0;34m(\u001b[0m\u001b[0;34m'SHOW COLUMNS FROM species'\u001b[0m\u001b[0;34m)\u001b[0m\u001b[0;34m.\u001b[0m\u001b[0mfetchmanY\u001b[0m\u001b[0;34m(\u001b[0m\u001b[0;34m)\u001b[0m\u001b[0;34m\u001b[0m\u001b[0m\n\u001b[0m",
      "\u001b[0;31mAttributeError\u001b[0m: 'int' object has no attribute 'fetchmanY'"
     ]
    }
   ],
   "source": [
    "db.cursor().execute('SHOW COLUMNS FROM species')."
   ]
  },
  {
   "cell_type": "code",
   "execution_count": 195,
   "metadata": {},
   "outputs": [],
   "source": [
    "cursor = db.cursor()\n",
    "cursor.execute('Describe species')\n",
    "results = cursor.fetchall()"
   ]
  },
  {
   "cell_type": "code",
   "execution_count": 199,
   "metadata": {},
   "outputs": [],
   "source": [
    "headings = []\n",
    "for heading in results:\n",
    "    headingData =,'heading': heading[0], 'required' : heading[3], 'default': heading[5]}\n",
    "    headings.append(headingData)"
   ]
  },
  {
   "cell_type": "code",
   "execution_count": 200,
   "metadata": {},
   "outputs": [
    {
     "name": "stdout",
     "output_type": "stream",
     "text": [
      "[{'number': <built-in method index of tuple object at 0x10b8b5648>, 'heading': 'id', 'required': 'PRI', 'default': 'auto_increment'}, {'number': <built-in method index of tuple object at 0x10c09bbe8>, 'heading': 'name', 'required': '', 'default': ''}, {'number': <built-in method index of tuple object at 0x10c04bc48>, 'heading': 'deleted_at', 'required': '', 'default': ''}, {'number': <built-in method index of tuple object at 0x10c09b948>, 'heading': 'created_at', 'required': '', 'default': ''}, {'number': <built-in method index of tuple object at 0x10c612288>, 'heading': 'updated_at', 'required': '', 'default': ''}]\n"
     ]
    }
   ],
   "source": [
    "print(headings)"
   ]
  },
  {
   "cell_type": "code",
   "execution_count": null,
   "metadata": {},
   "outputs": [],
   "source": []
  }
 ],
 "metadata": {
  "kernelspec": {
   "display_name": "Python 3",
   "language": "python",
   "name": "python3"
  },
  "language_info": {
   "codemirror_mode": {
    "name": "ipython",
    "version": 3
   },
   "file_extension": ".py",
   "mimetype": "text/x-python",
   "name": "python",
   "nbconvert_exporter": "python",
   "pygments_lexer": "ipython3",
   "version": "3.6.4"
  }
 },
 "nbformat": 4,
 "nbformat_minor": 2
}
